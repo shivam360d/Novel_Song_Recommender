{
 "cells": [
  {
   "cell_type": "code",
   "execution_count": 1,
   "metadata": {},
   "outputs": [],
   "source": [
    "import numpy as np\n",
    "import pandas as pd"
   ]
  },
  {
   "cell_type": "code",
   "execution_count": 39,
   "metadata": {},
   "outputs": [],
   "source": [
    "artist_details = pd.read_csv('../data/artist_details.csv',index_col=0)"
   ]
  },
  {
   "cell_type": "code",
   "execution_count": 40,
   "metadata": {},
   "outputs": [
    {
     "data": {
      "text/html": [
       "<div>\n",
       "<style scoped>\n",
       "    .dataframe tbody tr th:only-of-type {\n",
       "        vertical-align: middle;\n",
       "    }\n",
       "\n",
       "    .dataframe tbody tr th {\n",
       "        vertical-align: top;\n",
       "    }\n",
       "\n",
       "    .dataframe thead th {\n",
       "        text-align: right;\n",
       "    }\n",
       "</style>\n",
       "<table border=\"1\" class=\"dataframe\">\n",
       "  <thead>\n",
       "    <tr style=\"text-align: right;\">\n",
       "      <th></th>\n",
       "      <th>artist_names</th>\n",
       "      <th>track_id</th>\n",
       "      <th>genre</th>\n",
       "      <th>popularity</th>\n",
       "    </tr>\n",
       "  </thead>\n",
       "  <tbody>\n",
       "    <tr>\n",
       "      <th>0</th>\n",
       "      <td>['Bob Dylan']</td>\n",
       "      <td>3AhXZa8sUQht0UEdBJgpGc</td>\n",
       "      <td>[['album rock', 'classic rock', 'country rock'...</td>\n",
       "      <td>[71]</td>\n",
       "    </tr>\n",
       "    <tr>\n",
       "      <th>1</th>\n",
       "      <td>['Nirvana']</td>\n",
       "      <td>5ghIJDpPoe3CfHMGu71E6T</td>\n",
       "      <td>[['alternative rock', 'grunge', 'permanent wav...</td>\n",
       "      <td>[81]</td>\n",
       "    </tr>\n",
       "    <tr>\n",
       "      <th>2</th>\n",
       "      <td>['The Beatles']</td>\n",
       "      <td>0hKRSZhUGEhKU6aNSPBACZ</td>\n",
       "      <td>[['beatlesque', 'british invasion', 'classic r...</td>\n",
       "      <td>[83]</td>\n",
       "    </tr>\n",
       "    <tr>\n",
       "      <th>3</th>\n",
       "      <td>['The Beach Boys']</td>\n",
       "      <td>5Qt4Cc66g24QWwGP3YYV9y</td>\n",
       "      <td>[['baroque pop', 'brill building pop', 'classi...</td>\n",
       "      <td>[72]</td>\n",
       "    </tr>\n",
       "    <tr>\n",
       "      <th>4</th>\n",
       "      <td>['Chuck Berry']</td>\n",
       "      <td>2QfiRTz5Yc8DdShCxG1tB2</td>\n",
       "      <td>[['classic rock', 'rock', 'rock-and-roll', 'ro...</td>\n",
       "      <td>[65]</td>\n",
       "    </tr>\n",
       "    <tr>\n",
       "      <th>...</th>\n",
       "      <td>...</td>\n",
       "      <td>...</td>\n",
       "      <td>...</td>\n",
       "      <td>...</td>\n",
       "    </tr>\n",
       "    <tr>\n",
       "      <th>9727</th>\n",
       "      <td>['Animotion']</td>\n",
       "      <td>5iyCSUM7zzficwaGo8GIoc</td>\n",
       "      <td>[['new romantic', 'new wave', 'new wave pop', ...</td>\n",
       "      <td>[42]</td>\n",
       "    </tr>\n",
       "    <tr>\n",
       "      <th>9728</th>\n",
       "      <td>['Chris Montez']</td>\n",
       "      <td>2QSD3K3b3BJ8DPhGhQfDPW</td>\n",
       "      <td>[['adult standards', 'brill building pop', 'bu...</td>\n",
       "      <td>[46]</td>\n",
       "    </tr>\n",
       "    <tr>\n",
       "      <th>9729</th>\n",
       "      <td>['The Beatles']</td>\n",
       "      <td>67mtN6BlsJR0LVyzvNZnGt</td>\n",
       "      <td>[['beatlesque', 'british invasion', 'classic r...</td>\n",
       "      <td>[83]</td>\n",
       "    </tr>\n",
       "    <tr>\n",
       "      <th>9730</th>\n",
       "      <td>['Skids']</td>\n",
       "      <td>1KcxkWlRSDNchLovHnHBKP</td>\n",
       "      <td>[['new wave', 'pub rock', 'punk', 'scottish ne...</td>\n",
       "      <td>[35]</td>\n",
       "    </tr>\n",
       "    <tr>\n",
       "      <th>9731</th>\n",
       "      <td>['Redman']</td>\n",
       "      <td>3h66NhIvR5cgi2xJlUUmgd</td>\n",
       "      <td>[['east coast hip hop', 'gangster rap', 'hardc...</td>\n",
       "      <td>[65]</td>\n",
       "    </tr>\n",
       "  </tbody>\n",
       "</table>\n",
       "<p>9732 rows × 4 columns</p>\n",
       "</div>"
      ],
      "text/plain": [
       "            artist_names                track_id  \\\n",
       "0          ['Bob Dylan']  3AhXZa8sUQht0UEdBJgpGc   \n",
       "1            ['Nirvana']  5ghIJDpPoe3CfHMGu71E6T   \n",
       "2        ['The Beatles']  0hKRSZhUGEhKU6aNSPBACZ   \n",
       "3     ['The Beach Boys']  5Qt4Cc66g24QWwGP3YYV9y   \n",
       "4        ['Chuck Berry']  2QfiRTz5Yc8DdShCxG1tB2   \n",
       "...                  ...                     ...   \n",
       "9727       ['Animotion']  5iyCSUM7zzficwaGo8GIoc   \n",
       "9728    ['Chris Montez']  2QSD3K3b3BJ8DPhGhQfDPW   \n",
       "9729     ['The Beatles']  67mtN6BlsJR0LVyzvNZnGt   \n",
       "9730           ['Skids']  1KcxkWlRSDNchLovHnHBKP   \n",
       "9731          ['Redman']  3h66NhIvR5cgi2xJlUUmgd   \n",
       "\n",
       "                                                  genre popularity  \n",
       "0     [['album rock', 'classic rock', 'country rock'...       [71]  \n",
       "1     [['alternative rock', 'grunge', 'permanent wav...       [81]  \n",
       "2     [['beatlesque', 'british invasion', 'classic r...       [83]  \n",
       "3     [['baroque pop', 'brill building pop', 'classi...       [72]  \n",
       "4     [['classic rock', 'rock', 'rock-and-roll', 'ro...       [65]  \n",
       "...                                                 ...        ...  \n",
       "9727  [['new romantic', 'new wave', 'new wave pop', ...       [42]  \n",
       "9728  [['adult standards', 'brill building pop', 'bu...       [46]  \n",
       "9729  [['beatlesque', 'british invasion', 'classic r...       [83]  \n",
       "9730  [['new wave', 'pub rock', 'punk', 'scottish ne...       [35]  \n",
       "9731  [['east coast hip hop', 'gangster rap', 'hardc...       [65]  \n",
       "\n",
       "[9732 rows x 4 columns]"
      ]
     },
     "execution_count": 40,
     "metadata": {},
     "output_type": "execute_result"
    }
   ],
   "source": [
    "artist_details"
   ]
  },
  {
   "cell_type": "code",
   "execution_count": 41,
   "metadata": {},
   "outputs": [
    {
     "data": {
      "text/html": [
       "<div>\n",
       "<style scoped>\n",
       "    .dataframe tbody tr th:only-of-type {\n",
       "        vertical-align: middle;\n",
       "    }\n",
       "\n",
       "    .dataframe tbody tr th {\n",
       "        vertical-align: top;\n",
       "    }\n",
       "\n",
       "    .dataframe thead th {\n",
       "        text-align: right;\n",
       "    }\n",
       "</style>\n",
       "<table border=\"1\" class=\"dataframe\">\n",
       "  <thead>\n",
       "    <tr style=\"text-align: right;\">\n",
       "      <th></th>\n",
       "      <th>artist_names</th>\n",
       "      <th>track_id</th>\n",
       "      <th>genre</th>\n",
       "      <th>popularity</th>\n",
       "    </tr>\n",
       "  </thead>\n",
       "  <tbody>\n",
       "    <tr>\n",
       "      <th>0</th>\n",
       "      <td>Bob Dylan</td>\n",
       "      <td>3AhXZa8sUQht0UEdBJgpGc</td>\n",
       "      <td>album rock, classic rock, country rock, folk, ...</td>\n",
       "      <td>[71]</td>\n",
       "    </tr>\n",
       "    <tr>\n",
       "      <th>1</th>\n",
       "      <td>Nirvana</td>\n",
       "      <td>5ghIJDpPoe3CfHMGu71E6T</td>\n",
       "      <td>alternative rock, grunge, permanent wave, rock</td>\n",
       "      <td>[81]</td>\n",
       "    </tr>\n",
       "    <tr>\n",
       "      <th>2</th>\n",
       "      <td>The Beatles</td>\n",
       "      <td>0hKRSZhUGEhKU6aNSPBACZ</td>\n",
       "      <td>beatlesque, british invasion, classic rock, me...</td>\n",
       "      <td>[83]</td>\n",
       "    </tr>\n",
       "    <tr>\n",
       "      <th>3</th>\n",
       "      <td>The Beach Boys</td>\n",
       "      <td>5Qt4Cc66g24QWwGP3YYV9y</td>\n",
       "      <td>baroque pop, brill building pop, classic rock,...</td>\n",
       "      <td>[72]</td>\n",
       "    </tr>\n",
       "    <tr>\n",
       "      <th>4</th>\n",
       "      <td>Chuck Berry</td>\n",
       "      <td>2QfiRTz5Yc8DdShCxG1tB2</td>\n",
       "      <td>classic rock, rock, rock-and-roll, rockabilly</td>\n",
       "      <td>[65]</td>\n",
       "    </tr>\n",
       "  </tbody>\n",
       "</table>\n",
       "</div>"
      ],
      "text/plain": [
       "     artist_names                track_id  \\\n",
       "0       Bob Dylan  3AhXZa8sUQht0UEdBJgpGc   \n",
       "1         Nirvana  5ghIJDpPoe3CfHMGu71E6T   \n",
       "2     The Beatles  0hKRSZhUGEhKU6aNSPBACZ   \n",
       "3  The Beach Boys  5Qt4Cc66g24QWwGP3YYV9y   \n",
       "4     Chuck Berry  2QfiRTz5Yc8DdShCxG1tB2   \n",
       "\n",
       "                                               genre popularity  \n",
       "0  album rock, classic rock, country rock, folk, ...       [71]  \n",
       "1     alternative rock, grunge, permanent wave, rock       [81]  \n",
       "2  beatlesque, british invasion, classic rock, me...       [83]  \n",
       "3  baroque pop, brill building pop, classic rock,...       [72]  \n",
       "4      classic rock, rock, rock-and-roll, rockabilly       [65]  "
      ]
     },
     "execution_count": 41,
     "metadata": {},
     "output_type": "execute_result"
    }
   ],
   "source": [
    "cols_to_check =['artist_names','track_id','genre']\n",
    "artist_details[cols_to_check] = artist_details[cols_to_check].replace({\"]\":\"\"}, regex=True)\n",
    "artist_details[cols_to_check] = artist_details[cols_to_check].replace({\"'\":\"\"}, regex=True)\n",
    "artist_details['artist_names'] = artist_details['artist_names'].str.replace('[','',regex=True)\n",
    "artist_details['genre'] = artist_details['genre'].str.replace('[','', regex=True)\n",
    "artist_details.head()"
   ]
  },
  {
   "cell_type": "code",
   "execution_count": 36,
   "metadata": {},
   "outputs": [],
   "source": [
    "temp = artist_details.popularity.str.replace('[','')\n",
    "temp = temp.str.replace(']','')"
   ]
  },
  {
   "cell_type": "code",
   "execution_count": 52,
   "metadata": {},
   "outputs": [],
   "source": [
    "artist_details.popularity = artist_details.popularity.apply(eval)"
   ]
  },
  {
   "cell_type": "code",
   "execution_count": 73,
   "metadata": {},
   "outputs": [],
   "source": [
    "artist_details.popularity = artist_details.popularity.apply(lambda X : 0 if not len(X) else sum(X)/len(X))"
   ]
  },
  {
   "cell_type": "code",
   "execution_count": 77,
   "metadata": {},
   "outputs": [],
   "source": [
    "artist_details.to_csv('../data/artist_details.csv')"
   ]
  },
  {
   "cell_type": "code",
   "execution_count": 75,
   "metadata": {},
   "outputs": [
    {
     "data": {
      "text/plain": [
       "5gRcv46AMTrosmTOqrOV3Q    1\n",
       "7bOr9XoG8f9iOMN2XOXnvU    1\n",
       "1rnoM73nG7HsyOqV5X7lPF    1\n",
       "6ufEz8VJMZ7QcFR4qTCJku    1\n",
       "4XkXgUNDVBMj3oJoE8yspZ    1\n",
       "                         ..\n",
       "4gxG38GmhagF2T6eaTdUR6    1\n",
       "0CDbCahovsgZPNumyO7aD2    1\n",
       "3oyc1mIdCBGaU55wX7otqM    1\n",
       "6LHzCuLzfZQr0V8eZD9TPC    1\n",
       "3mGwufkovVPrzsJaXWg8PU    1\n",
       "Name: track_id, Length: 9732, dtype: int64"
      ]
     },
     "execution_count": 75,
     "metadata": {},
     "output_type": "execute_result"
    }
   ],
   "source": [
    "artist_details.track_id.value_counts()"
   ]
  },
  {
   "cell_type": "code",
   "execution_count": null,
   "metadata": {},
   "outputs": [],
   "source": []
  }
 ],
 "metadata": {
  "kernelspec": {
   "display_name": "Python 3",
   "language": "python",
   "name": "python3"
  },
  "language_info": {
   "codemirror_mode": {
    "name": "ipython",
    "version": 3
   },
   "file_extension": ".py",
   "mimetype": "text/x-python",
   "name": "python",
   "nbconvert_exporter": "python",
   "pygments_lexer": "ipython3",
   "version": "3.7.7"
  }
 },
 "nbformat": 4,
 "nbformat_minor": 4
}
