{
 "cells": [
  {
   "cell_type": "code",
   "execution_count": 1,
   "metadata": {},
   "outputs": [],
   "source": [
    "import psycopg2\n",
    "import config\n",
    "\n",
    "hostname = 'localhost'\n",
    "database='Test'\n",
    "username= 'postgres'\n",
    "pwd='2208'\n",
    "port_id='5432'"
   ]
  },
  {
   "cell_type": "code",
   "execution_count": 8,
   "metadata": {},
   "outputs": [],
   "source": [
    "create_script = ('''CREATE TABLE A (\n",
    "            \n",
    "        )\n",
    "        ''',\n",
    "        ''' CREATE TABLE B (\n",
    "                \n",
    "                )\n",
    "        ''',\n",
    "        '''\n",
    "        CREATE TABLE C (\n",
    "                \n",
    "        )\n",
    "        ''')\n",
    "\n",
    " # These scripts can be changed to insert a DataFrame directly into Table\n",
    " # For testing purpose used basic statements. Everything works fine        "
   ]
  },
  {
   "cell_type": "code",
   "execution_count": 10,
   "metadata": {},
   "outputs": [],
   "source": [
    "insert_script = 'INSERT INTO TABLE A (COLUMN1,COLUMN2,COLUMN3) VALUES(%s,%s,%s)'\n",
    "insert_values= [('a','b','c'),('d','e','f')]"
   ]
  },
  {
   "cell_type": "code",
   "execution_count": 9,
   "metadata": {},
   "outputs": [
    {
     "name": "stdout",
     "output_type": "stream",
     "text": [
      "CREATE TABLE A (\n",
      "            \n",
      "        )\n",
      "        \n",
      " CREATE TABLE B (\n",
      "                \n",
      "                )\n",
      "        \n",
      "\n",
      "        CREATE TABLE C (\n",
      "                \n",
      "        )\n",
      "        \n"
     ]
    }
   ],
   "source": [
    "\n",
    "\n",
    "conn =None\n",
    "cur = None    \n",
    "\n",
    "try:\n",
    "    conn = psycopg2.connect(\n",
    "        host=hostname,\n",
    "        dbname= database,\n",
    "        user=username,\n",
    "        password=pwd,\n",
    "        port=port_id\n",
    "    )\n",
    "\n",
    "    cur= conn.cursor()\n",
    "    for create in create_script:\n",
    "        print(create)  \n",
    "      \n",
    "    conn.commit()\n",
    "    cur.execute(insert_script,insert_values)\n",
    "    \n",
    "except Exception as error:\n",
    "    print(error)  \n",
    "finally:\n",
    "    if conn is not None:\n",
    "        conn.close()\n",
    "    if cur is not None:\n",
    "        cur.close()\n",
    "\n"
   ]
  },
  {
   "cell_type": "code",
   "execution_count": null,
   "metadata": {},
   "outputs": [],
   "source": []
  }
 ],
 "metadata": {
  "interpreter": {
   "hash": "aee8b7b246df8f9039afb4144a1f6fd8d2ca17a180786b69acc140d282b71a49"
  },
  "kernelspec": {
   "display_name": "Python 3.10.4 64-bit",
   "language": "python",
   "name": "python3"
  },
  "language_info": {
   "codemirror_mode": {
    "name": "ipython",
    "version": 3
   },
   "file_extension": ".py",
   "mimetype": "text/x-python",
   "name": "python",
   "nbconvert_exporter": "python",
   "pygments_lexer": "ipython3",
   "version": "3.10.4"
  },
  "orig_nbformat": 4
 },
 "nbformat": 4,
 "nbformat_minor": 2
}
