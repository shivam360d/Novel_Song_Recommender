{
 "cells": [
  {
   "cell_type": "code",
   "execution_count": 1,
   "metadata": {},
   "outputs": [],
   "source": [
    "import numpy as np\n",
    "import pandas as pd\n",
    "import spotipy\n",
    "from spotipy.oauth2 import SpotifyClientCredentials\n",
    "import os"
   ]
  },
  {
   "cell_type": "code",
   "execution_count": 2,
   "metadata": {},
   "outputs": [
    {
     "name": "stdout",
     "output_type": "stream",
     "text": [
      "env: SPOTIPY_CLIENT_ID=36c1fe97755c412491f259c3e69182d5\n",
      "env: SPOTIPY_CLIENT_SECRET=53511839617645b4965c0c490b6c358f\n"
     ]
    }
   ],
   "source": [
    "#%env SPOTIPY_CLIENT_ID=f909f932f8194d309bf087ab2722067d\n",
    "#%env SPOTIPY_CLIENT_SECRET=90cca3d09f9f46dea63b5260ca149969\n",
    "%env SPOTIPY_CLIENT_ID=36c1fe97755c412491f259c3e69182d5\n",
    "%env SPOTIPY_CLIENT_SECRET=53511839617645b4965c0c490b6c358f"
   ]
  },
  {
   "cell_type": "code",
   "execution_count": 3,
   "metadata": {},
   "outputs": [],
   "source": [
    "spotify = spotipy.Spotify(auth_manager=SpotifyClientCredentials())"
   ]
  },
  {
   "cell_type": "code",
   "execution_count": 4,
   "metadata": {},
   "outputs": [],
   "source": [
    "def get_playlist_details(spotify,playlist_id):\n",
    "    playlist_details = []\n",
    "    offset = 0\n",
    "    while offset<10000:\n",
    "        items = spotify.playlist_items(playlist_id,market='US',offset=offset)[\"items\"]\n",
    "        playlist_details = playlist_details + items\n",
    "        offset+=100\n",
    "    return playlist_details"
   ]
  },
  {
   "cell_type": "code",
   "execution_count": 5,
   "metadata": {
    "collapsed": true
   },
   "outputs": [
    {
     "name": "stdout",
     "output_type": "stream",
     "text": [
      "0\n",
      "100\n",
      "200\n",
      "300\n",
      "400\n",
      "500\n",
      "600\n",
      "700\n",
      "800\n",
      "900\n",
      "1000\n",
      "1100\n",
      "1200\n",
      "1300\n",
      "1400\n",
      "1500\n",
      "1600\n",
      "1700\n",
      "1800\n",
      "1900\n",
      "2000\n",
      "2100\n",
      "2200\n",
      "2300\n",
      "2400\n",
      "2500\n",
      "2600\n",
      "2700\n",
      "2800\n",
      "2900\n",
      "3000\n",
      "3100\n",
      "3200\n",
      "3300\n",
      "3400\n",
      "3500\n",
      "3600\n",
      "3700\n",
      "3800\n",
      "3900\n",
      "4000\n",
      "4100\n",
      "4200\n",
      "4300\n",
      "4400\n",
      "4500\n",
      "4600\n",
      "4700\n",
      "4800\n",
      "4900\n",
      "5000\n",
      "5100\n",
      "5200\n",
      "5300\n",
      "5400\n",
      "5500\n",
      "5600\n",
      "5700\n",
      "5800\n",
      "5900\n",
      "6000\n",
      "6100\n",
      "6200\n",
      "6300\n",
      "6400\n",
      "6500\n",
      "6600\n",
      "6700\n",
      "6800\n",
      "6900\n",
      "7000\n",
      "7100\n",
      "7200\n",
      "7300\n",
      "7400\n",
      "7500\n",
      "7600\n",
      "7700\n",
      "7800\n",
      "7900\n",
      "8000\n",
      "8100\n",
      "8200\n",
      "8300\n",
      "8400\n",
      "8500\n",
      "8600\n",
      "8700\n",
      "8800\n",
      "8900\n",
      "9000\n",
      "9100\n",
      "9200\n",
      "9300\n",
      "9400\n",
      "9500\n",
      "9600\n",
      "9700\n",
      "9800\n",
      "9900\n"
     ]
    }
   ],
   "source": [
    "playlist_id = '1G8IpkZKobrIlXcVPoSIuf'\n",
    "#playlist_id = '2j7LT0sUOFNd05D5MfIW6o'\n",
    "playlist_details = get_playlist_details(spotify,playlist_id)"
   ]
  },
  {
   "cell_type": "code",
   "execution_count": 6,
   "metadata": {},
   "outputs": [],
   "source": [
    "def get_track_ids(playlist):\n",
    "    track_ids = []\n",
    "    for track in playlist_details:\n",
    "        if track[\"track\"]:\n",
    "            if track[\"track\"][\"id\"]:\n",
    "                track_ids.append(track[\"track\"][\"id\"])\n",
    "    return track_ids"
   ]
  },
  {
   "cell_type": "code",
   "execution_count": 4,
   "metadata": {},
   "outputs": [
    {
     "data": {
      "text/plain": [
       "array(['3AhXZa8sUQht0UEdBJgpGc', '5ghIJDpPoe3CfHMGu71E6T',\n",
       "       '0hKRSZhUGEhKU6aNSPBACZ', ..., '1KcxkWlRSDNchLovHnHBKP',\n",
       "       '3h66NhIvR5cgi2xJlUUmgd', '0cTwMCvozZBj8jCq6o27nk'], dtype=object)"
      ]
     },
     "execution_count": 4,
     "metadata": {},
     "output_type": "execute_result"
    }
   ],
   "source": [
    "#track_ids = get_track_ids(playlist_details)\n",
    "track_details = pd.read_csv('../data/truncated_tracks.csv',index_col=0) \n",
    "track_ids = track_details['id'].values\n",
    "track_ids"
   ]
  },
  {
   "cell_type": "code",
   "execution_count": null,
   "metadata": {},
   "outputs": [],
   "source": [
    "for track_id in track_ids:\n",
    "    ans = spotify.track(track_id)\n",
    "    print(ans)\n",
    "    break"
   ]
  },
  {
   "cell_type": "code",
   "execution_count": 5,
   "metadata": {},
   "outputs": [],
   "source": [
    "def get_track_details(spotify,track_ids):\n",
    "    tracks = []\n",
    "    artists = []\n",
    "    count=0\n",
    "    for track_id in track_ids:\n",
    "        track = spotify.track(track_id)\n",
    "        track_dic = {}\n",
    "\n",
    "        artists.append([artist['id'] for artist in track['artists']])\n",
    "        track_dic['track_name'] = track['name']\n",
    "        print(count)\n",
    "        track_dic['track_popularity'] = track['popularity']\n",
    "        track_dic['album_released_date'] = track['album']['release_date']\n",
    "        track_dic['id'] = track['id']\n",
    "        track_dic['album_id'] = track['album']['id']\n",
    "        track_dic['album_name'] = track['album']['name']\n",
    "        track_dic['album_type'] = track['album']['type']\n",
    "        tracks.append(track_dic)\n",
    "        count+=1\n",
    "    return (tracks,artists)"
   ]
  },
  {
   "cell_type": "code",
   "execution_count": null,
   "metadata": {},
   "outputs": [],
   "source": [
    "tracks,artist_ids = get_track_details(spotify,track_ids)"
   ]
  },
  {
   "cell_type": "code",
   "execution_count": null,
   "metadata": {},
   "outputs": [],
   "source": []
  },
  {
   "cell_type": "code",
   "execution_count": 25,
   "metadata": {},
   "outputs": [],
   "source": [
    "tracks_truncated = pd.DataFrame.from_records(tracks)"
   ]
  },
  {
   "cell_type": "code",
   "execution_count": 27,
   "metadata": {
    "collapsed": true
   },
   "outputs": [
    {
     "data": {
      "text/plain": [
       "0       [74ASZWbe4lXaubB36ztrGX]\n",
       "1       [6olE6TJLqED3rqDCT0FyPh]\n",
       "2       [3WrFJ7ztbogyGnTHbHJFl2]\n",
       "3       [3oDbviiivRWhXwIE8hxkVV]\n",
       "4       [293zczrfYafIItmnmM3coR]\n",
       "                  ...           \n",
       "9942    [2vwI9jlKSgJbne3dlTzaLO]\n",
       "9943    [7xTKLpo7UCzXSnlH7fOIoM]\n",
       "9944    [6nB0iY1cjSY1KyhYyuIIKH]\n",
       "9945    [3LrsctPHK5wMdvEqvFN8BW]\n",
       "9946    [1SQRv42e4PjEYfPhS0Tk9E]\n",
       "Name: artist_id, Length: 9947, dtype: object"
      ]
     },
     "execution_count": 27,
     "metadata": {},
     "output_type": "execute_result"
    }
   ],
   "source": [
    "tracks_truncated['artist_id'] = artist_ids"
   ]
  },
  {
   "cell_type": "code",
   "execution_count": 28,
   "metadata": {},
   "outputs": [],
   "source": [
    "tracks_truncated.to_csv('./data/truncated_tracks.csv')"
   ]
  },
  {
   "cell_type": "code",
   "execution_count": 4,
   "metadata": {},
   "outputs": [],
   "source": [
    "tracks_truncated = pd.read_csv('../data/truncated_tracks.csv',index_col=0)"
   ]
  },
  {
   "cell_type": "code",
   "execution_count": 13,
   "metadata": {},
   "outputs": [],
   "source": [
    "tracks_truncated['artist_id'] = tracks_truncated['artist_id'].apply(eval)"
   ]
  },
  {
   "cell_type": "code",
   "execution_count": 12,
   "metadata": {},
   "outputs": [],
   "source": [
    "def get_artist_details_for_track(spotify,artists_ids,track_ids):\n",
    "    \n",
    "    # artist information to be returned\n",
    "    genres = []\n",
    "    popularity = []\n",
    "    artist_names = []\n",
    "    \n",
    "    # batch arrays acting as a buffer for the output of aritist API\n",
    "    artists_batch = []\n",
    "    group_counter = 0\n",
    "    track_id_batch = []\n",
    "    \n",
    "    for artist_id_group,track_id,index in zip(artists_ids,track_ids,list(range(len(artists_ids)))):\n",
    "        \n",
    "        #check if the length of a batch does not exceed 50 (maximum api batch size input constraint)\n",
    "        if ((len(artist_id_group) + len(artists_batch)) <= 50 and (index<len(artists_ids)-1)):\n",
    "            group_counter += 1\n",
    "            artists_batch = artists_batch + artist_id_group\n",
    "            track_id_batch.append(track_id)\n",
    "        else:\n",
    "            if index==len(artists_ids)-1:\n",
    "                artists_batch = artists_batch + artist_id_group\n",
    "        \n",
    "            # API call to the artist function\n",
    "            artist_details = spotify.artists(artists_batch)\n",
    "            offset = 0\n",
    "            \n",
    "            # extracting artist details and appending it to the output arrays\n",
    "            for group_index in range(group_counter):\n",
    "                group_size = len(artists_ids[group_index])\n",
    "                genres.append((([artist['genres'] for artist in artist_details['artists'][offset:offset+group_size]]),track_id_batch[group_index]))\n",
    "                popularity.append((([artist['popularity'] for artist in artist_details['artists'][offset:offset+group_size]]),track_id_batch[group_index]))\n",
    "                artist_names.append((([artist['name'] for artist in artist_details['artists'][offset:offset+group_size]]),track_id_batch[group_index]))\n",
    "                offset+=group_size\n",
    "            \n",
    "            # resetting batch parameters for the next bacth\n",
    "            artists_batch=[]\n",
    "            track_id_batch=[]\n",
    "            group_counter = 0\n",
    "    \n",
    "    return (genres,popularity,artist_names)"
   ]
  },
  {
   "cell_type": "code",
   "execution_count": 14,
   "metadata": {},
   "outputs": [],
   "source": [
    "artist_ids = list(tracks_truncated['artist_id'])\n",
    "track_ids = list(tracks_truncated['id'])\n",
    "genres,popularity,artist_names = get_artist_details_for_track(spotify,artist_ids,track_ids)"
   ]
  },
  {
   "cell_type": "code",
   "execution_count": 15,
   "metadata": {
    "collapsed": true
   },
   "outputs": [
    {
     "data": {
      "text/plain": [
       "[(['Bob Dylan'], '3AhXZa8sUQht0UEdBJgpGc'),\n",
       " (['Nirvana'], '5ghIJDpPoe3CfHMGu71E6T'),\n",
       " (['The Beatles'], '0hKRSZhUGEhKU6aNSPBACZ'),\n",
       " (['The Beach Boys'], '5Qt4Cc66g24QWwGP3YYV9y'),\n",
       " (['Chuck Berry'], '2QfiRTz5Yc8DdShCxG1tB2'),\n",
       " (['Aretha Franklin'], '7s25THrKz86DM225dOYwnr'),\n",
       " (['The Ronettes'], '2G2YzndIA6jeWFPBXhUjh5'),\n",
       " (['Marvin Gaye'], '3Um9toULmYFGCpvaIPFw7l'),\n",
       " (['Marvin Gaye'], '1tqT6DhmsrtQgyCKUwotiw'),\n",
       " (['The Rolling Stones'], '2PzU4IB8Dr6mxV3lHuaG34'),\n",
       " (['Michael Jackson'], '5ChkMS8OtdzJeqyybCc9R5'),\n",
       " (['Elvis Presley'], '1iUgrte2PxLxQ6Te95RnAV'),\n",
       " (['Bruce Springsteen'], '6hTcuIQa0sxrrByu9wTD7s'),\n",
       " (['The Who'], '4u9f8hqstB7iITDJNzKhQx'),\n",
       " (['Joy Division'], '34iOH7LY3vme5rQxsVILZ4'),\n",
       " (['The Beach Boys'], '6iGU74CwXuT4XVepjc9Emf'),\n",
       " (['Otis Redding'], '4Y4Gd3ty8uut6Qw43c7yJc'),\n",
       " (['Outkast'], '2PpruBYCo4H7WOBJ7Q2EwM'),\n",
       " (['Sex Pistols'], '3LoDeIbiR12sAznmpNEmKA'),\n",
       " (['M.I.A.'], '1ixbwbeBi5ufN4noUKmW5a'),\n",
       " (['The Clash'], '5jzma6gCzYtKB1DbEwFZKH'),\n",
       " (['The Rolling Stones'], '1Ud6moTC0KyXMq1Oxfien0'),\n",
       " (['The Beatles'], '3Am0IbOxmvlSXro7N5iSfZ'),\n",
       " (['Little Richard'], '2iXcvnD3d1gfLBum0cE5Eg'),\n",
       " (['Led Zeppelin'], '5CQ30WqJwcep0pYcV4AMNc'),\n",
       " (['Grandmaster Flash & The Furious Five',\n",
       "   'Grandmaster Melle Mel',\n",
       "   'Duke Bootee'],\n",
       "  '5DuTNKFEjJIySAyJH1yNDU'),\n",
       " (['Ray Charles'], '3JvDEbXLKUxaNv0D0txup5'),\n",
       " (['John Lennon'], '7pKfPomDEeI4TPT6EOYjn9'),\n",
       " (['Sam Cooke'], '0KOE1hat4SIer491XKk4Pa'),\n",
       " (['David Bowie'], '7Jh1bpe76CNTCgdgAdBw4Z'),\n",
       " (['Prince'], '51H2y6YrNNXcy3dfc3qSbA'),\n",
       " (['Stevie Wonder'], '4N0TP4Rmj6QQezWV88ARNJ'),\n",
       " (['Pulp'], '2fXKyAyPrEa24c6PJyqznF'),\n",
       " (['The Rolling Stones'], '6H3kDe7CGoWYBabAeVWGiD'),\n",
       " (['Billie Holiday'], '1CTex49P0iWwzUGsMNjgaV'),\n",
       " (['The Kinks'], '29SyMC0plk6qw8NMF7lfRL'),\n",
       " (['Beyoncé', 'JAY-Z'], '5IVuqXILoxVWvWEPm82Jxr'),\n",
       " (['The White Stripes'], '3dPQuX8Gs42Y7b454ybpMR'),\n",
       " (['R.E.M.'], '31AOj9sFz2gM0O3hMARRBx'),\n",
       " (['Sex Pistols'], '6ui6l3ZNvlrGQZArwo8195'),\n",
       " (['Queen'], '7tFiyTwD0nx5a1eklYtX2J'),\n",
       " (['New Order'], '6hHc7Pks7wtBIW8Z6A0iFq'),\n",
       " (['Jimi Hendrix'], '0wJoRiX5K5BxlqZTolB2LD'),\n",
       " (['The Kingsmen'], '0iA3xXSkSCiJywKyo1UKjQ'),\n",
       " (['The Jackson 5'], '5LxvwujISqiB8vpRYv887S'),\n",
       " (['Gnarls Barkley'], '2N5zMZX7YeL1tico8oQxa9'),\n",
       " (['The Righteous Brothers'], '6AeyHqzNHJthYJbn0tvJ4b'),\n",
       " (['The Kinks'], '5nrmGFJ87crVoJF5xdRqwn'),\n",
       " (['Franz Ferdinand'], '20I8RduZC2PWMWTDCZuuAN'),\n",
       " (['Missy Elliott'], '13KEdaWIc7T6ozEmnJjHy1'),\n",
       " (['Buddy Holly'], '50RwvvEKX5Q7AZt8FTAwIF'),\n",
       " (['The Doors'], '5uvosCdMlFdTXhoazkTI5R'),\n",
       " (['Donna Summer'], '3x0wa95iAU1ZMmf3yAQkjZ'),\n",
       " (['The Smiths'], '0WQiDwKJclirSYG9v5tayI'),\n",
       " (['David Bowie'], '72Z17vmmeQKAg8bptWvpVG'),\n",
       " (['Ben E. King'], '7jmHyHMEqm9MJWiMAneF05'),\n",
       " (['The Byrds'], '2HCaIYjkvWSZzaSKUoOh3d'),\n",
       " (['The Verve'], '57iDDD9N9tTWe75x6qhStw'),\n",
       " (['Bill Haley & His Comets'], '1uRKT2LRANv4baowBWHfDS'),\n",
       " (['Derek & The Dominos'], '2kkvB3RNRzwjFdGhaUA0tz')]"
      ]
     },
     "execution_count": 15,
     "metadata": {},
     "output_type": "execute_result"
    }
   ],
   "source": [
    "artist_names[0:60]"
   ]
  },
  {
   "cell_type": "code",
   "execution_count": 16,
   "metadata": {},
   "outputs": [],
   "source": [
    "genre_df = pd.DataFrame(genres, columns =['genre', 'track_id'])"
   ]
  },
  {
   "cell_type": "code",
   "execution_count": 19,
   "metadata": {},
   "outputs": [],
   "source": [
    "popularity_df = pd.DataFrame(popularity, columns =['popularity', 'track_id'])"
   ]
  },
  {
   "cell_type": "code",
   "execution_count": 20,
   "metadata": {},
   "outputs": [],
   "source": [
    "artist_names_df = pd.DataFrame(artist_names, columns =['artist_names', 'track_id'])"
   ]
  },
  {
   "cell_type": "code",
   "execution_count": 21,
   "metadata": {},
   "outputs": [],
   "source": [
    "temp = pd.concat([artist_names_df,genre_df.drop(columns=['track_id'])],axis=1)"
   ]
  },
  {
   "cell_type": "code",
   "execution_count": 22,
   "metadata": {},
   "outputs": [],
   "source": [
    "artist_details_df = pd.concat([temp,popularity_df.drop(columns=['track_id'])],axis=1)"
   ]
  },
  {
   "cell_type": "code",
   "execution_count": 23,
   "metadata": {
    "collapsed": true
   },
   "outputs": [
    {
     "data": {
      "text/html": [
       "<div>\n",
       "<style scoped>\n",
       "    .dataframe tbody tr th:only-of-type {\n",
       "        vertical-align: middle;\n",
       "    }\n",
       "\n",
       "    .dataframe tbody tr th {\n",
       "        vertical-align: top;\n",
       "    }\n",
       "\n",
       "    .dataframe thead th {\n",
       "        text-align: right;\n",
       "    }\n",
       "</style>\n",
       "<table border=\"1\" class=\"dataframe\">\n",
       "  <thead>\n",
       "    <tr style=\"text-align: right;\">\n",
       "      <th></th>\n",
       "      <th>artist_names</th>\n",
       "      <th>track_id</th>\n",
       "      <th>genre</th>\n",
       "      <th>popularity</th>\n",
       "    </tr>\n",
       "  </thead>\n",
       "  <tbody>\n",
       "    <tr>\n",
       "      <th>0</th>\n",
       "      <td>[Bob Dylan]</td>\n",
       "      <td>3AhXZa8sUQht0UEdBJgpGc</td>\n",
       "      <td>[[album rock, classic rock, country rock, folk...</td>\n",
       "      <td>[71]</td>\n",
       "    </tr>\n",
       "    <tr>\n",
       "      <th>1</th>\n",
       "      <td>[Nirvana]</td>\n",
       "      <td>5ghIJDpPoe3CfHMGu71E6T</td>\n",
       "      <td>[[alternative rock, grunge, permanent wave, ro...</td>\n",
       "      <td>[81]</td>\n",
       "    </tr>\n",
       "    <tr>\n",
       "      <th>2</th>\n",
       "      <td>[The Beatles]</td>\n",
       "      <td>0hKRSZhUGEhKU6aNSPBACZ</td>\n",
       "      <td>[[beatlesque, british invasion, classic rock, ...</td>\n",
       "      <td>[83]</td>\n",
       "    </tr>\n",
       "    <tr>\n",
       "      <th>3</th>\n",
       "      <td>[The Beach Boys]</td>\n",
       "      <td>5Qt4Cc66g24QWwGP3YYV9y</td>\n",
       "      <td>[[baroque pop, brill building pop, classic roc...</td>\n",
       "      <td>[72]</td>\n",
       "    </tr>\n",
       "    <tr>\n",
       "      <th>4</th>\n",
       "      <td>[Chuck Berry]</td>\n",
       "      <td>2QfiRTz5Yc8DdShCxG1tB2</td>\n",
       "      <td>[[classic rock, rock, rock-and-roll, rockabilly]]</td>\n",
       "      <td>[65]</td>\n",
       "    </tr>\n",
       "    <tr>\n",
       "      <th>...</th>\n",
       "      <td>...</td>\n",
       "      <td>...</td>\n",
       "      <td>...</td>\n",
       "      <td>...</td>\n",
       "    </tr>\n",
       "    <tr>\n",
       "      <th>9727</th>\n",
       "      <td>[Animotion]</td>\n",
       "      <td>5iyCSUM7zzficwaGo8GIoc</td>\n",
       "      <td>[[new romantic, new wave, new wave pop, synthp...</td>\n",
       "      <td>[42]</td>\n",
       "    </tr>\n",
       "    <tr>\n",
       "      <th>9728</th>\n",
       "      <td>[Chris Montez]</td>\n",
       "      <td>2QSD3K3b3BJ8DPhGhQfDPW</td>\n",
       "      <td>[[adult standards, brill building pop, bubbleg...</td>\n",
       "      <td>[46]</td>\n",
       "    </tr>\n",
       "    <tr>\n",
       "      <th>9729</th>\n",
       "      <td>[The Beatles]</td>\n",
       "      <td>67mtN6BlsJR0LVyzvNZnGt</td>\n",
       "      <td>[[beatlesque, british invasion, classic rock, ...</td>\n",
       "      <td>[83]</td>\n",
       "    </tr>\n",
       "    <tr>\n",
       "      <th>9730</th>\n",
       "      <td>[Skids]</td>\n",
       "      <td>1KcxkWlRSDNchLovHnHBKP</td>\n",
       "      <td>[[new wave, pub rock, punk, scottish new wave,...</td>\n",
       "      <td>[35]</td>\n",
       "    </tr>\n",
       "    <tr>\n",
       "      <th>9731</th>\n",
       "      <td>[Redman]</td>\n",
       "      <td>3h66NhIvR5cgi2xJlUUmgd</td>\n",
       "      <td>[[east coast hip hop, gangster rap, hardcore h...</td>\n",
       "      <td>[65]</td>\n",
       "    </tr>\n",
       "  </tbody>\n",
       "</table>\n",
       "<p>9732 rows × 4 columns</p>\n",
       "</div>"
      ],
      "text/plain": [
       "          artist_names                track_id  \\\n",
       "0          [Bob Dylan]  3AhXZa8sUQht0UEdBJgpGc   \n",
       "1            [Nirvana]  5ghIJDpPoe3CfHMGu71E6T   \n",
       "2        [The Beatles]  0hKRSZhUGEhKU6aNSPBACZ   \n",
       "3     [The Beach Boys]  5Qt4Cc66g24QWwGP3YYV9y   \n",
       "4        [Chuck Berry]  2QfiRTz5Yc8DdShCxG1tB2   \n",
       "...                ...                     ...   \n",
       "9727       [Animotion]  5iyCSUM7zzficwaGo8GIoc   \n",
       "9728    [Chris Montez]  2QSD3K3b3BJ8DPhGhQfDPW   \n",
       "9729     [The Beatles]  67mtN6BlsJR0LVyzvNZnGt   \n",
       "9730           [Skids]  1KcxkWlRSDNchLovHnHBKP   \n",
       "9731          [Redman]  3h66NhIvR5cgi2xJlUUmgd   \n",
       "\n",
       "                                                  genre popularity  \n",
       "0     [[album rock, classic rock, country rock, folk...       [71]  \n",
       "1     [[alternative rock, grunge, permanent wave, ro...       [81]  \n",
       "2     [[beatlesque, british invasion, classic rock, ...       [83]  \n",
       "3     [[baroque pop, brill building pop, classic roc...       [72]  \n",
       "4     [[classic rock, rock, rock-and-roll, rockabilly]]       [65]  \n",
       "...                                                 ...        ...  \n",
       "9727  [[new romantic, new wave, new wave pop, synthp...       [42]  \n",
       "9728  [[adult standards, brill building pop, bubbleg...       [46]  \n",
       "9729  [[beatlesque, british invasion, classic rock, ...       [83]  \n",
       "9730  [[new wave, pub rock, punk, scottish new wave,...       [35]  \n",
       "9731  [[east coast hip hop, gangster rap, hardcore h...       [65]  \n",
       "\n",
       "[9732 rows x 4 columns]"
      ]
     },
     "execution_count": 23,
     "metadata": {},
     "output_type": "execute_result"
    }
   ],
   "source": [
    "artist_details_df"
   ]
  },
  {
   "cell_type": "code",
   "execution_count": 25,
   "metadata": {},
   "outputs": [],
   "source": [
    "artist_details_df.to_csv('../data/artist_details.csv')"
   ]
  },
  {
   "cell_type": "code",
   "execution_count": 26,
   "metadata": {},
   "outputs": [],
   "source": [
    "artist_details_df = pd.read_csv('../data/artist_details.csv',index_col=0)"
   ]
  },
  {
   "cell_type": "code",
   "execution_count": 27,
   "metadata": {
    "collapsed": true
   },
   "outputs": [
    {
     "data": {
      "text/plain": [
       "3qdDjz9kOvquEFbvXBYOMQ    1\n",
       "5RNOPiFhFVyTpoPmm0XNCa    1\n",
       "44KIBTGQket3oXHFIGvvIw    1\n",
       "7FIhuHZUdUxWX2hDMGdIbF    1\n",
       "722E6CPY8biq4sUnf40u6Y    1\n",
       "                         ..\n",
       "2EFtUP7BmsjHzhQqI6A4rp    1\n",
       "1qG6DKMmMrXMIC75dXy5r0    1\n",
       "5NK8jad728pj6YeqM5VJD4    1\n",
       "78kbSMbALAqKFAJ7In4lyf    1\n",
       "1kG2PZ8geznbDA8I6iWeDi    1\n",
       "Name: track_id, Length: 9732, dtype: int64"
      ]
     },
     "execution_count": 27,
     "metadata": {},
     "output_type": "execute_result"
    }
   ],
   "source": [
    "artist_details_df['track_id'].value_counts()"
   ]
  },
  {
   "cell_type": "code",
   "execution_count": 31,
   "metadata": {},
   "outputs": [],
   "source": [
    "def get_track_audio_features(spotify,track_ids):\n",
    "    audio_features = []\n",
    "    offset = 0\n",
    "    while offset<len(track_ids):\n",
    "        result = spotify.audio_features(track_ids[offset:offset+100])\n",
    "        audio_features = audio_features + result\n",
    "        offset+=100\n",
    "    return audio_features"
   ]
  },
  {
   "cell_type": "code",
   "execution_count": 33,
   "metadata": {
    "scrolled": true
   },
   "outputs": [],
   "source": [
    "track_audio_features = get_track_audio_features(spotify,track_ids)"
   ]
  },
  {
   "cell_type": "code",
   "execution_count": 35,
   "metadata": {
    "scrolled": true
   },
   "outputs": [],
   "source": [
    "track_audio_features_df = pd.DataFrame.from_records(track_audio_features)"
   ]
  },
  {
   "cell_type": "code",
   "execution_count": 40,
   "metadata": {},
   "outputs": [],
   "source": [
    "track_audio_features_df.to_csv('../data/track_audio_features.csv')"
   ]
  }
 ],
 "metadata": {
  "kernelspec": {
   "display_name": "Python 3",
   "language": "python",
   "name": "python3"
  },
  "language_info": {
   "codemirror_mode": {
    "name": "ipython",
    "version": 3
   },
   "file_extension": ".py",
   "mimetype": "text/x-python",
   "name": "python",
   "nbconvert_exporter": "python",
   "pygments_lexer": "ipython3",
   "version": "3.7.7"
  }
 },
 "nbformat": 4,
 "nbformat_minor": 4
}
