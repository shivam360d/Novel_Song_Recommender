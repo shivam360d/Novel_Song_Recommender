{
 "cells": [
  {
   "cell_type": "code",
   "execution_count": 2,
   "metadata": {},
   "outputs": [],
   "source": [
    "import numpy as np\n",
    "import pandas as pd\n",
    "import spotipy\n",
    "from spotipy.oauth2 import SpotifyClientCredentials\n",
    "import os"
   ]
  },
  {
   "cell_type": "code",
   "execution_count": 23,
   "metadata": {},
   "outputs": [
    {
     "name": "stdout",
     "output_type": "stream",
     "text": [
      "env: SPOTIPY_CLIENT_ID=f909f932f8194d309bf087ab2722067d\n",
      "env: SPOTIPY_CLIENT_SECRET=90cca3d09f9f46dea63b5260ca149969\n"
     ]
    }
   ],
   "source": [
    "%env SPOTIPY_CLIENT_ID=f909f932f8194d309bf087ab2722067d\n",
    "%env SPOTIPY_CLIENT_SECRET=90cca3d09f9f46dea63b5260ca149969\n",
    "print(os.environ['SPOTIPY_CLIENT_ID'])"
   ]
  },
  {
   "cell_type": "code",
   "execution_count": 25,
   "metadata": {},
   "outputs": [],
   "source": [
    "spotify = spotipy.Spotify(auth_manager=SpotifyClientCredentials())"
   ]
  },
  {
   "cell_type": "code",
   "execution_count": 26,
   "metadata": {},
   "outputs": [
    {
     "data": {
      "text/plain": [
       "{'prefix': 'https://api.spotify.com/v1/',\n",
       " '_auth': None,\n",
       " 'client_credentials_manager': None,\n",
       " 'oauth_manager': None,\n",
       " '_auth_manager': <spotipy.oauth2.SpotifyClientCredentials at 0x1852a260d08>,\n",
       " 'proxies': None,\n",
       " 'requests_timeout': 5,\n",
       " 'status_forcelist': (429, 500, 502, 503, 504),\n",
       " 'backoff_factor': 0.3,\n",
       " 'retries': 3,\n",
       " 'status_retries': 3,\n",
       " 'language': None,\n",
       " '_session': <requests.sessions.Session at 0x1852a263308>}"
      ]
     },
     "execution_count": 26,
     "metadata": {},
     "output_type": "execute_result"
    }
   ],
   "source": [
    "spotify.__dict__"
   ]
  },
  {
   "cell_type": "code",
   "execution_count": 89,
   "metadata": {},
   "outputs": [],
   "source": [
    "playlist_id = '1G8IpkZKobrIlXcVPoSIuf'\n",
    "playlist_details = []\n",
    "offset = 0\n",
    "while offset<10000:\n",
    "    items = spotify.playlist_items(playlist_id,market='US',offset=offset)[\"items\"]\n",
    "    playlist_details = playlist_details + items\n",
    "    offset+=100"
   ]
  },
  {
   "cell_type": "code",
   "execution_count": 91,
   "metadata": {},
   "outputs": [
    {
     "data": {
      "text/plain": [
       "10000"
      ]
     },
     "execution_count": 91,
     "metadata": {},
     "output_type": "execute_result"
    }
   ],
   "source": [
    "len(playlist_details)"
   ]
  },
  {
   "cell_type": "code",
   "execution_count": 110,
   "metadata": {},
   "outputs": [],
   "source": [
    "track_ids = []\n",
    "for track in playlist_details:\n",
    "    if track[\"track\"]:\n",
    "        track_ids.append(track[\"track\"][\"id\"])"
   ]
  },
  {
   "cell_type": "code",
   "execution_count": null,
   "metadata": {},
   "outputs": [],
   "source": []
  },
  {
   "cell_type": "code",
   "execution_count": null,
   "metadata": {},
   "outputs": [],
   "source": []
  },
  {
   "cell_type": "code",
   "execution_count": null,
   "metadata": {},
   "outputs": [],
   "source": []
  },
  {
   "cell_type": "code",
   "execution_count": null,
   "metadata": {},
   "outputs": [],
   "source": []
  }
 ],
 "metadata": {
  "kernelspec": {
   "display_name": "Python 3",
   "language": "python",
   "name": "python3"
  },
  "language_info": {
   "codemirror_mode": {
    "name": "ipython",
    "version": 3
   },
   "file_extension": ".py",
   "mimetype": "text/x-python",
   "name": "python",
   "nbconvert_exporter": "python",
   "pygments_lexer": "ipython3",
   "version": "3.7.7"
  }
 },
 "nbformat": 4,
 "nbformat_minor": 4
}
